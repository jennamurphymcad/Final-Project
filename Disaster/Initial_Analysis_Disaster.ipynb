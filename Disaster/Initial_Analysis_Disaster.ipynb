{
 "cells": [
  {
   "cell_type": "markdown",
   "metadata": {},
   "source": [
    "Disaster Tweets"
   ]
  },
  {
   "cell_type": "markdown",
   "metadata": {},
   "source": [
    "# Bag of Words Text Analysis"
   ]
  },
  {
   "cell_type": "markdown",
   "metadata": {},
   "source": [
    "Inspect Data"
   ]
  },
  {
   "cell_type": "code",
   "execution_count": 208,
   "metadata": {},
   "outputs": [],
   "source": [
    "import pandas as pd\n",
    "import numpy as np"
   ]
  },
  {
   "cell_type": "code",
   "execution_count": 209,
   "metadata": {},
   "outputs": [],
   "source": [
    "df = pd.read_csv(\"yelp_reviews.csv\")"
   ]
  },
  {
   "cell_type": "code",
   "execution_count": 210,
   "metadata": {},
   "outputs": [
    {
     "name": "stdout",
     "output_type": "stream",
     "text": [
      "type of yelp_reviews: <class 'pandas.core.frame.DataFrame'>\n",
      "length of yelp_reviews: 1000\n"
     ]
    }
   ],
   "source": [
    "print(\"type of yelp_reviews: {}\".format(type(df)))\n",
    "print(\"length of yelp_reviews: {}\".format(len(df)))"
   ]
  },
  {
   "cell_type": "code",
   "execution_count": 211,
   "metadata": {},
   "outputs": [
    {
     "data": {
      "text/html": [
       "<div>\n",
       "<style scoped>\n",
       "    .dataframe tbody tr th:only-of-type {\n",
       "        vertical-align: middle;\n",
       "    }\n",
       "\n",
       "    .dataframe tbody tr th {\n",
       "        vertical-align: top;\n",
       "    }\n",
       "\n",
       "    .dataframe thead th {\n",
       "        text-align: right;\n",
       "    }\n",
       "</style>\n",
       "<table border=\"1\" class=\"dataframe\">\n",
       "  <thead>\n",
       "    <tr style=\"text-align: right;\">\n",
       "      <th></th>\n",
       "      <th>class</th>\n",
       "      <th>text</th>\n",
       "    </tr>\n",
       "  </thead>\n",
       "  <tbody>\n",
       "    <tr>\n",
       "      <th>0</th>\n",
       "      <td>positive</td>\n",
       "      <td>Wow... Loved this place.</td>\n",
       "    </tr>\n",
       "    <tr>\n",
       "      <th>1</th>\n",
       "      <td>negative</td>\n",
       "      <td>Crust is not good.</td>\n",
       "    </tr>\n",
       "    <tr>\n",
       "      <th>2</th>\n",
       "      <td>negative</td>\n",
       "      <td>Not tasty and the texture was just nasty.</td>\n",
       "    </tr>\n",
       "    <tr>\n",
       "      <th>3</th>\n",
       "      <td>positive</td>\n",
       "      <td>Stopped by during the late May bank holiday of...</td>\n",
       "    </tr>\n",
       "    <tr>\n",
       "      <th>4</th>\n",
       "      <td>positive</td>\n",
       "      <td>The selection on the menu was great and so wer...</td>\n",
       "    </tr>\n",
       "  </tbody>\n",
       "</table>\n",
       "</div>"
      ],
      "text/plain": [
       "      class                                               text\n",
       "0  positive                           Wow... Loved this place.\n",
       "1  negative                                 Crust is not good.\n",
       "2  negative          Not tasty and the texture was just nasty.\n",
       "3  positive  Stopped by during the late May bank holiday of...\n",
       "4  positive  The selection on the menu was great and so wer..."
      ]
     },
     "execution_count": 211,
     "metadata": {},
     "output_type": "execute_result"
    }
   ],
   "source": [
    "df.head()"
   ]
  },
  {
   "cell_type": "code",
   "execution_count": 212,
   "metadata": {
    "scrolled": true
   },
   "outputs": [
    {
     "data": {
      "text/plain": [
       "negative    500\n",
       "positive    500\n",
       "Name: class, dtype: int64"
      ]
     },
     "execution_count": 212,
     "metadata": {},
     "output_type": "execute_result"
    }
   ],
   "source": [
    "# Balanced dataset in terms of postive and negative reviews\n",
    "df[\"class\"].value_counts()"
   ]
  },
  {
   "cell_type": "code",
   "execution_count": 213,
   "metadata": {},
   "outputs": [],
   "source": [
    "# Create variables as numpy arrays / covert positive and negative to 1s and 0s\n",
    "X = df.text.values\n",
    "y = df['class'].replace({'negative': 0, 'positive': 1}).values"
   ]
  },
  {
   "cell_type": "code",
   "execution_count": 214,
   "metadata": {},
   "outputs": [
    {
     "name": "stdout",
     "output_type": "stream",
     "text": [
      "['Wow... Loved this place.' 'Crust is not good.'\n",
      " 'Not tasty and the texture was just nasty.'\n",
      " 'Stopped by during the late May bank holiday off Rick Steve recommendation and loved it.'\n",
      " 'The selection on the menu was great and so were the prices.']\n",
      "[1 0 0 1 1]\n"
     ]
    }
   ],
   "source": [
    "# Inspect\n",
    "print(X[:5])\n",
    "print(y[:5])"
   ]
  },
  {
   "cell_type": "code",
   "execution_count": 215,
   "metadata": {},
   "outputs": [
    {
     "data": {
      "text/plain": [
       "800"
      ]
     },
     "execution_count": 215,
     "metadata": {},
     "output_type": "execute_result"
    }
   ],
   "source": [
    "# Split raw data into train and test datasets\n",
    "from sklearn.model_selection import train_test_split\n",
    "X_train, X_test, y_train, y_test = train_test_split(X, y, test_size=0.2, random_state=42)\n",
    "len(X_train)"
   ]
  },
  {
   "cell_type": "markdown",
   "metadata": {},
   "source": [
    "# CountVectorize: convert to \"Bag of Words\""
   ]
  },
  {
   "cell_type": "code",
   "execution_count": 216,
   "metadata": {},
   "outputs": [
    {
     "data": {
      "text/plain": [
       "CountVectorizer()"
      ]
     },
     "execution_count": 216,
     "metadata": {},
     "output_type": "execute_result"
    }
   ],
   "source": [
    "# Import and instantiate the Countvectorizer and fit to Yelp data\n",
    "from sklearn.feature_extraction.text import CountVectorizer\n",
    "vectorizer = CountVectorizer()\n",
    "# Learn a vocabulary dictionary of all tokens in the raw documents\n",
    "vectorizer.fit(X_train)"
   ]
  },
  {
   "cell_type": "code",
   "execution_count": 217,
   "metadata": {},
   "outputs": [
    {
     "name": "stdout",
     "output_type": "stream",
     "text": [
      "Vocabulary size: 1792\n",
      "\n",
      "Vocabulary details: {'the': 1567, 'worst': 1769, 'was': 1707, 'salmon': 1334, 'sashimi': 1343, 'an': 51, 'excellent': 534, 'new': 1047, 'restaurant': 1292, 'by': 226, 'experienced': 542, 'frenchman': 623, 'went': 1729, 'for': 611, 'lunch': 937, 'service': 1385, 'slow': 1427, 'think': 1580, 'this': 1584, 'suffers': 1521, 'from': 631, 'not': 1059, 'trying': 1631, 'hard': 722, 'enough': 512, 'just': 853, 'had': 706, 'here': 748, 'and': 52, 'great': 680, 'experience': 541, 'got': 671, 'home': 764, 'to': 1597, 'see': 1368, 'driest': 467, 'damn': 377, 'wings': 1751, 'ever': 526, 'delicious': 398, 'they': 1575, 'brought': 206, 'fresh': 624, 'batch': 126, 'of': 1069, 'fries': 630, 'thinking': 1581, 'yay': 1779, 'something': 1445, 'warm': 1704, 'but': 224, 'no': 1053, 'then': 1572, 'tragedy': 1618, 'struck': 1506, 'awful': 106, 'food': 608, 'huge': 786, 'portions': 1196, 'give': 655, 'military': 993, 'discount': 432, 'waiter': 1694, 'wasn': 1708, 'helpful': 746, 'or': 1092, 'friendly': 628, 'rarely': 1249, 'checked': 268, 'on': 1081, 'us': 1658, 'could': 340, 'barely': 119, 'stomach': 1494, 'meal': 968, 'didn': 414, 'complain': 316, 'because': 139, 'it': 834, 'business': 221, 'that': 1565, 'price': 1211, 'can': 239, 'few': 577, 'place': 1177, 'would': 1771, 'have': 729, 'much': 1022, 'rather': 1252, 'gone': 667, 'fried': 626, 'rice': 1305, 'dry': 474, 'as': 85, 'well': 1728, 'both': 187, 'them': 1570, 'were': 1730, 'truly': 1629, 'unbelievably': 1641, 'good': 668, 'am': 45, 'so': 1437, 'glad': 658, 'we': 1719, 'back': 110, 'eclectic': 487, 'selection': 1372, 'based': 124, 'sub': 1512, 'par': 1131, 'received': 1264, 'effort': 493, 'show': 1408, 'their': 1569, 'gratitude': 677, 'my': 1029, 'won': 1757, 'be': 132, 'going': 664, 'chips': 281, 'sals': 1335, 'is': 832, 'amazing': 46, 'quick': 1240, 'even': 522, 'go': 662, 'orders': 1096, 'are': 75, 'like': 897, 'greedy': 682, 'corporation': 336, 'will': 1748, 'never': 1046, 'another': 56, 'dime': 417, 'me': 967, 'also': 42, 'now': 1062, 'serve': 1380, 'indian': 813, 'naan': 1031, 'bread': 197, 'with': 1754, 'hummus': 789, 'some': 1441, 'spicy': 1466, 'pine': 1171, 'nut': 1065, 'sauce': 1347, 'out': 1103, 'world': 1766, 'what': 1731, 'happened': 719, 'next': 1048, 'pretty': 1210, 'off': 1070, 'putting': 1236, 'side': 1412, 'greek': 683, 'salad': 1332, 'dressing': 465, 'tasty': 1550, 'pita': 1174, 'very': 1681, 'refreshing': 1276, 'pizza': 1175, 'selections': 1373, 'texture': 1561, 'nasty': 1036, 'eat': 484, 'potato': 1200, 'found': 617, 'strangers': 1499, 'hair': 708, 'in': 807, 'sat': 1344, 'ten': 1557, 'minutes': 998, 'finally': 584, 'gave': 646, 'up': 1655, 'left': 883, 'name': 1033, 'if': 797, 'there': 1573, 'zero': 1791, 'stars': 1477, 'probably': 1218, 've': 1667, 'seen': 1371, 'vegas': 1670, 'none': 1056, 'tell': 1555, 'you': 1785, 'how': 784, 'disappointed': 426, 'jewel': 842, 'las': 871, 'exactly': 531, 'been': 142, 'hoping': 774, 'find': 585, 'nearly': 1038, 'years': 1782, 'living': 909, 'tasted': 1548, 'old': 1077, 'super': 1530, 'chewy': 275, 'way': 1716, 'seems': 1370, 'grab': 674, 'bite': 167, 'familiar': 557, 'pub': 1230, 'do': 442, 'yourself': 1787, 'favor': 568, 'look': 916, 'elsewhere': 501, 'final': 583, 'blow': 176, 'isn': 833, 'bad': 112, 'enjoy': 509, 'dealing': 384, 'annoying': 55, 'drunk': 473, 'people': 1152, 'after': 31, 'all': 38, 'rave': 1253, 'reviews': 1299, 'couldn': 341, 'wait': 1692, 'disappointment': 428, 'when': 1734, 'order': 1093, 'arrived': 82, 'one': 1083, 'gyros': 704, 'missing': 1001, 'everything': 529, 'gross': 691, 'stopped': 1497, 'during': 479, 'late': 874, 'may': 964, 'bank': 116, 'holiday': 763, 'rick': 1306, 'steve': 1490, 'recommendation': 1268, 'loved': 926, 'inviting': 830, 'perfect': 1154, 'night': 1051, 'once': 1082, 'get': 651, 'inside': 822, 'll': 910, 'impressed': 805, 'sooooo': 1450, 'come': 310, 'again': 33, 'sweet': 1534, 'seasoned': 1361, 'pan': 1125, 'cakes': 232, 'everyone': 528, 'raving': 1254, 'about': 18, 'taste': 1547, 'sugary': 1523, 'disaster': 430, 'tailored': 1540, 'palate': 1122, 'six': 1424, 'year': 1781, 'things': 1579, 'wrong': 1777, 'burned': 218, 'saganaki': 1330, 'turkey': 1635, 'roast': 1311, 'beef': 141, 'bland': 173, 'spend': 1462, 'your': 1786, 'money': 1008, 'time': 1593, 'else': 500, 'atmosphere': 92, 'fast': 565, 'stay': 1481, 'must': 1028, 'breakfast': 199, 'at': 90, 'least': 879, 'family': 558, 'nice': 1049, 'couple': 343, 'months': 1010, 'later': 875, 'returned': 1295, 'point': 1189, 'finger': 587, 'any': 57, 'item': 835, 'menu': 983, 'really': 1260, 'nothing': 1061, 'postinos': 1199, 'hope': 771, 'better': 155, 'every': 527, 'caring': 246, 'teamwork': 1553, 'professional': 1220, 'degree': 395, 'getting': 652, 'angry': 54, 'want': 1701, 'pho': 1165, 'ryan': 1326, 'bar': 117, 'definitely': 394, 'edinburgh': 490, 'establishment': 518, 'revisiting': 1300, 'outstanding': 1107, 'prices': 1213, 'reasonable': 1261, 'quickly': 1241, 'either': 497, 'always': 44, 'evening': 523, 'wonderful': 1758, 'manager': 953, 'came': 237, 'helped': 745, 'our': 1101, 'table': 1536, 'mediocre': 975, 'sandwich': 1342, 'dinners': 421, 'many': 956, 'times': 1594, 'soon': 1448, 'kind': 861, 'mess': 986, 'steak': 1484, 'did': 413, 'owner': 1116, 'first': 591, 'might': 992, 'last': 872, 'touch': 1612, 'live': 907, 'music': 1026, 'fridays': 625, 'totally': 1610, 'blows': 178, 'value': 1665, 'walked': 1698, 'smelled': 1432, 'grease': 679, 'trap': 1620, 'only': 1086, 'others': 1099, 'eating': 486, 'flavorless': 599, 'describing': 405, 'tepid': 1559, 'meat': 972, 'hate': 726, 'those': 1586, 'cheap': 265, 'quality': 1239, 'black': 170, 'olives': 1079, 'attentive': 96, 'providing': 1229, 'customer': 372, 'waited': 1693, 'hours': 782, 'pizzas': 1176, 'other': 1098, 'around': 80, 'who': 1741, '10': 0, 're': 1256, 'waiting': 1695, 'her': 747, 'realized': 1259, 'coming': 312, 'tonight': 1603, 'elk': 499, 'filet': 580, 'special': 1461, 'sucked': 1518, 'bathroom': 127, 'door': 451, 'ribeye': 1304, 'cooked': 333, 'perfectly': 1156, 'mesquite': 985, 'flavor': 596, 'folks': 607, 'otto': 1100, 'make': 948, 'feel': 571, 'welcome': 1727, 'busy': 223, 'know': 862, 'why': 1743, 'bit': 165, 'too': 1604, 'lacked': 865, 'salsa': 1336, 'airline': 36, 'seriously': 1378, 'quite': 1243, 'clean': 294, 'cool': 335, 'say': 1351, 'love': 925, 'margaritas': 957, 'style': 1510, 'strike': 1503, 'wants': 1703, 'rushed': 1325, 'potatoes': 1201, 'rubber': 1321, 'made': 940, 'ahead': 35, 'being': 148, 'kept': 854, 'under': 1642, 'warmer': 1705, 'staff': 1473, 'joint': 846, 'thirty': 1583, 'seated': 1364, 'although': 43, 'vacant': 1662, 'tables': 1537, 'take': 1541, 'dinner': 420, 'dollars': 446, 'seafood': 1359, 'limited': 901, 'boiled': 182, 'shrimp': 1410, 'crab': 353, 'legs': 886, 'furthermore': 642, 'operation': 1088, 'website': 1721, 'girlfriend': 654, 'veal': 1668, 'maybe': 965, 'vegetarian': 1672, 'fare': 564, 'twice': 1637, 'thought': 1588, 'average': 100, 'best': 154, 'swung': 1535, 'try': 1630, 'deeply': 391, 'fairly': 555, 'simply': 1420, 'worth': 1770, 'pale': 1123, 'color': 307, 'instead': 825, 'char': 262, 'has': 724, 'over': 1110, 'rated': 1251, 'recommend': 1267, 'sure': 1531, 'ask': 86, 'spicier': 1465, 'prefer': 1205, 'insulted': 826, 'mains': 946, 'uninspired': 1648, 'treated': 1622, 'equally': 516, 'han': 711, 'nan': 1034, 'chicken': 276, 'friend': 627, 'tartar': 1546, 'cheated': 266, 'wasting': 1711, 'opportunity': 1090, 'company': 315, 'thumbs': 1590, 'down': 455, 'chip': 279, 'sad': 1327, 'count': 342, 'box': 193, '12': 2, 'asked': 87, 'multiple': 1025, 'wine': 1749, 'list': 903, 'ignored': 799, 'hostess': 778, 'myself': 1030, 'nutshell': 1066, 'restaraunt': 1291, 'smells': 1433, 'combination': 308, 'dirty': 424, 'fish': 592, 'market': 959, 'sewer': 1392, 'overall': 1111, 'noca': 1054, 'vegetables': 1671, 'feels': 573, 'authentic': 99, 'thai': 1562, 'small': 1428, 'fine': 586, 'dining': 419, 'thing': 1578, 'management': 952, 'rude': 1322, 'server': 1382, 'serving': 1387, 'she': 1397, 'ordered': 1094, 'toasted': 1599, 'english': 508, 'muffin': 1023, 'untoasted': 1654, 'compliments': 319, 'chef': 273, 'which': 1738, 'especially': 517, 'bring': 203, 'two': 1638, 'boys': 196, 'baby': 109, 'wow': 1774, 'friends': 629, 'basically': 125, 'figured': 579, 'joke': 847, 'mind': 997, 'making': 949, 'publicly': 1232, 'loudly': 924, 'known': 863, 'fun': 640, 'hello': 743, 'right': 1307, 'highlighted': 753, 'unique': 1649, 'beautiful': 136, 'setting': 1389, 'check': 267, 'sun': 1527, 'steaks': 1486, 'trimmed': 1625, 'today': 1600, 'buldogis': 214, 'gourmet': 673, 'hot': 779, 'dog': 444, 'more': 1013, 'than': 1563, 'possible': 1198, 'waitresses': 1697, 'host': 777, 'lack': 864, 'word': 1760, 'bitches': 166, 'considering': 325, 'located': 912, 'crystals': 370, 'shopping': 1403, 'mall': 950, 'aria': 79, 'companions': 314, 'told': 1601, 'saving': 1350, 'room': 1317, 'drinks': 469, 'weak': 1720, 'summary': 1525, 'largely': 869, 'disappointing': 427, 'building': 213, 'itself': 837, 'neat': 1039, 'trippy': 1627, 'wouldn': 1772, 'decided': 387, 'send': 1375, 'waitress': 1696, 'looked': 917, 'verge': 1679, 'having': 730, 'heart': 737, 'attack': 94, 'chefs': 274, 'job': 843, 'finish': 588, 'don': 447, 'penne': 1151, 'vodka': 1688, 'beer': 143, 'drink': 468, 'mistake': 1002, 'blanket': 174, 'moz': 1020, 'top': 1606, 'done': 448, 'cover': 348, 'subpar': 1513, 'tried': 1624, 'boy': 194, 'sucker': 1519, 'subway': 1514, 'fact': 552, 'meet': 977, 'expectations': 539, 'anytime': 61, 'full': 639, 'took': 1605, 'hour': 781, 'luke': 935, 'sever': 1390, 'running': 1324, 'he': 732, 'overwhelmed': 1114, 'bother': 188, 'ice': 794, 'cream': 358, 'dessert': 409, 'feeling': 572, 'satisfied': 1346, 'disgrace': 433, 'flavorful': 598, 'amount': 49, 'heat': 739, 'bacon': 111, 'hella': 742, 'salty': 1338, 'work': 1761, 'hospitality': 776, 'industry': 816, 'paradise': 1132, 'valley': 1664, 'refrained': 1275, 'recommending': 1270, 'cibo': 287, 'longer': 915, 'lordy': 920, 'khao': 856, 'soi': 1439, 'dish': 437, 'missed': 1000, 'curry': 371, 'lovers': 929, 'honeslty': 766, 'felt': 576, 'guest': 699, 'treat': 1621, 'group': 694, '70': 15, 'claimed': 289, '40': 10, 'handled': 714, 'beautifully': 137, '30': 7, 'min': 996, 'milkshake': 995, 'chocolate': 282, 'milk': 994, 'cannot': 240, 'believe': 149, 'unexperienced': 1646, 'employees': 504, 'chickens': 277, 'heads': 734, 'cut': 375, 'packed': 1120, 'rolled': 1315, 'eyes': 550, 'stayed': 1482, 'bathrooms': 128, 'decorated': 389, 'paying': 1146, '85': 16, 'looks': 919, 'kid': 857, 'wienerschnitzel': 1745, 'idea': 796, 'watch': 1712, 'sporting': 1468, 'events': 525, 'walls': 1700, 'covered': 349, 'tv': 1636, 'shower': 1409, 'area': 76, 'outside': 1106, 'rinse': 1309, 'unless': 1650, 'nude': 1063, 'ri': 1302, 'calamari': 233, 'mom': 1007, 'multi': 1024, 'grain': 675, 'pumpkin': 1233, 'pancakes': 1127, 'pecan': 1150, 'butter': 225, 'fluffy': 605, 'including': 809, 'massive': 963, 'meatloaf': 973, 'crispy': 363, 'wrap': 1775, 'delish': 402, 'tuna': 1634, 'melt': 980, 'burgers': 217, 'refried': 1277, 'beans': 134, 'dried': 466, 'crusty': 369, 'flair': 594, 'bartenders': 122, 'absolutely': 21, 'lemon': 887, 'raspberry': 1250, 'cocktail': 299, 'incredible': 811, 'deal': 383, 'drag': 459, 'into': 829, 'before': 145, 'expected': 540, 'trip': 1626, 'perpared': 1159, 'presentation': 1209, 'giant': 653, 'slices': 1426, 'toast': 1598, 'lightly': 896, 'dusted': 480, 'powdered': 1203, 'sugar': 1522, 'grill': 687, 'downtown': 458, 'flat': 595, 'lined': 902, 'excuse': 536, 'frustrated': 635, 'anyway': 62, 'fs': 637, 'performed': 1157, 'due': 477, '20': 5, 'acknowledged': 26, '35': 9, 'forgetting': 613, 'opinion': 1089, 'entrees': 515, 'gc': 647, 'hawaiian': 731, 'breeze': 201, 'mango': 955, 'magic': 943, 'pineapple': 1172, 'delight': 399, 'smoothies': 1436, 'far': 563, 'lost': 921, 'omg': 1080, 'delicioso': 397, 'husband': 791, 'his': 760, 'sunglasses': 1529, 'gyro': 703, 'lettuce': 891, 'drive': 471, 'needless': 1042, 'join': 845, 'club': 297, 'awesome': 105, 'offers': 1072, 'via': 1682, 'email': 502, 'generous': 650, 'portion': 1195, 'seasonal': 1360, 'fruit': 634, 'white': 1740, 'peach': 1147, 'puree': 1235, 'said': 1331, 'mouths': 1018, 'bellies': 150, 'still': 1492, 'pleased': 1186, 'panna': 1128, 'cotta': 339, 'above': 19, 'tasteless': 1549, 'let': 888, 'alone': 41, 'pros': 1225, 'large': 868, 'seating': 1365, 'simple': 1419, 'brick': 202, 'oven': 1109, 'homemade': 765, 'dough': 454, 'appetizer': 72, 'sushi': 1533, 'craving': 355, 'while': 1739, 'receives': 1265, 'appetizers': 73, 'greatest': 681, 'moods': 1012, 'beat': 135, 'salads': 1333, 'buffet': 211, 'offered': 1071, 'enjoyed': 511, 'mouthful': 1017, 'enjoyable': 510, 'relaxed': 1284, 'venue': 1678, 'couples': 344, 'groups': 695, 'etc': 519, 'cashier': 253, 'care': 245, 'ended': 507, 'wayyy': 1718, 'overpriced': 1113, 'dressed': 464, 'rudely': 1323, 'ambiance': 47, 'terrible': 1560, 'cow': 351, 'tongue': 1602, 'cheek': 269, 'tacos': 1539, 'hopefully': 772, 'bodes': 181, 'someone': 1443, 'cook': 332, 'immediately': 803, 'wanted': 1702, 'talk': 1542, 'guy': 701, 'doing': 445, 'shots': 1405, 'fireball': 589, 'behind': 147, 'poorly': 1192, 'constructed': 327, 'actually': 28, 'where': 1736, 'high': 751, 'caesar': 229, 'leaves': 882, 'lot': 922, 'desired': 408, 'tots': 1611, 'onion': 1085, 'rings': 1308, 'perfection': 1155, 'close': 295, 'double': 452, 'cheeseburger': 271, 'boyfriend': 195, 'completely': 318, 'delightful': 400, 'away': 104, 'stuffed': 1508, 'happy': 721, 'avoid': 102, 'cost': 337, 'lighting': 895, 'dark': 378, 'set': 1388, 'mood': 1011, 'burger': 216, 'rare': 1248, 'bites': 168, 'refused': 1278, 'anymore': 58, 'google': 669, 'imagine': 801, 'smashburger': 1430, 'pop': 1193, 'town': 1615, 'guess': 698, 'should': 1406, 'suck': 1517, 'excalibur': 532, 'use': 1659, 'common': 313, 'sense': 1376, 'tender': 1558, 'crema': 360, 'caf': 230, 'expanded': 537, 'part': 1134, 'combo': 309, 'ala': 37, 'cart': 248, 'healthy': 735, 'ethic': 520, 'buffets': 212, 'similarly': 1418, 'delivery': 403, 'man': 951, 'apology': 66, '45': 12, 'nargile': 1035, 'total': 1609, 'waste': 1709, 'rock': 1313, 'casino': 254, 'step': 1488, 'forward': 616, 'denny': 404, 'location': 913, 'seat': 1363, 'covers': 350, 'replenished': 1289, 'plain': 1180, 'yucky': 1788, 'impressive': 806, 'hasn': 725, 'closed': 296, 'disgusting': 436, 'extremely': 548, 'crumby': 367, 'ago': 34, 'bye': 227, 'tip': 1596, 'lady': 867, 'ians': 793, 'mexican': 988, 'whole': 1742, 'bunch': 215, 'interesting': 828, 'yet': 1784, 'meats': 974, 'choose': 283, 'need': 1040, 'positive': 1197, 'note': 1060, 'provided': 1227, 'judge': 849, 'whether': 1737, 'these': 1574, 'sides': 1413, 'grossed': 692, 'melted': 981, 'styrofoam': 1511, 'fear': 570, 'sick': 1411, 'looking': 918, 'crawfish': 356, 'bagels': 113, 'grocery': 690, 'store': 1498, 'regular': 1279, 'stop': 1496, 'trips': 1628, 'phoenix': 1166, 'arepas': 78, 'fantastic': 562, 'wife': 1746, 'loves': 930, 'roasted': 1312, 'garlic': 644, 'bone': 183, 'marrow': 960, 'added': 29, 'extra': 547, 'expert': 544, 'connisseur': 322, 'topic': 1607, 'weekly': 1725, 'haunt': 728, 'each': 482, 'day': 381, 'week': 1723, 'different': 416, 'started': 1478, 'review': 1297, 'editing': 491, 'definately': 393, 'ourselves': 1102, 'giving': 657, 'modern': 1004, 'hip': 758, 'maintaining': 947, 'coziness': 352, 'summarize': 1524, 'nay': 1037, 'transcendant': 1619, 'brings': 204, 'joy': 848, 'memory': 982, 'pneumatic': 1188, 'condiment': 321, 'dispenser': 439, 'classic': 291, 'maine': 945, 'lobster': 911, 'roll': 1314, 'insults': 827, 'profound': 1222, 'deuchebaggery': 411, 'smoke': 1434, 'break': 198, 'solidify': 1440, 'ensued': 513, 'wontons': 1759, 'thin': 1577, 'thick': 1576, 'almost': 40, 'mouth': 1016, 'given': 656, 'godfathers': 663, 'martini': 961, 'shocked': 1399, 'signs': 1415, 'indicate': 814, 'cash': 251, 'favorite': 569, 'shawarrrrrrma': 1396, 'jalapeno': 838, 'soooo': 1449, 'bisque': 164, 'bussell': 222, 'sprouts': 1472, 'risotto': 1310, 'needed': 1041, 'salt': 1337, 'pepper': 1153, 'course': 346, 'literally': 905, 'asking': 88, 'does': 443, 'nachos': 1032, 'movies': 1019, 'expect': 538, 'little': 906, 'cute': 376, 'sadly': 1328, 'gordon': 670, 'ramsey': 1244, 'shall': 1394, 'sharply': 1395, 'spaghetti': 1460, 'whatsoever': 1732, 'biscuits': 163, 'maria': 958, 'brunch': 208, 'spot': 1469, 'four': 618, 'blue': 179, 'shirt': 1398, 'vibe': 1683, 'letting': 890, 'tapas': 1545, 'dishes': 438, 'apparently': 69, 'heard': 736, 'batter': 129, 'grilled': 688, 'yellow': 1783, 'saffron': 1329, 'seasoning': 1362, 'oysters': 1118, 'absolutley': 22, 'crostini': 364, 'stale': 1474, 'scallop': 1354, 'appalling': 68, 'lukewarm': 936, 'sitting': 1423, 'crepe': 361, 'station': 1480, 'cant': 241, 'descriptions': 406, 'yum': 1789, 'eel': 492, 'mayo': 966, 'rolls': 1316, 'sauces': 1348, 'dont': 449, 'long': 914, 'stretch': 1502, 'imagination': 800, 'cheesecurds': 272, 'accomodate': 24, 'vegan': 1669, 'veggie': 1673, 'options': 1091, 'liking': 900, 'number': 1064, 'reasons': 1263, 'reviewing': 1298, 'leave': 881, 'sergeant': 1377, 'auju': 98, 'strings': 1504, 'pasta': 1139, 'bottom': 189, 'disrespected': 440, 'human': 787, 'deserves': 407, 'generic': 649, 'eaten': 485, 'bowl': 192, 'hadn': 707, 'wasted': 1710, 'life': 893, 'poured': 1202, 'wound': 1773, 'drawing': 461, 'touched': 1613, 'inexpensive': 817, 'boot': 185, 'neighborhood': 1044, 'gem': 648, 'watched': 1713, 'pay': 1145, 'attention': 95, 'ignore': 798, 'venture': 1676, 'further': 641, 'hit': 761, 'duck': 475, 'pink': 1173, 'shouldn': 1407, 'eggs': 496, 'forever': 612, 'ate': 91, 'though': 1587, 'impeccable': 804, 'ambience': 48, 'downside': 457, 'lastly': 873, 'mozzarella': 1021, 'sticks': 1491, 'petty': 1162, 'desserts': 410, 'visit': 1686, 'hiro': 759, 'perhaps': 1158, 'caught': 256, 'judging': 850, 'inspired': 823, 'fair': 554, 'pictures': 1168, 'him': 757, 'main': 944, 'crowd': 365, 'older': 1078, 'mid': 990, '30s': 8, 'highlights': 754, 'nigiri': 1052, '100': 1, 'cheese': 270, 'crisp': 362, 'consider': 324, 'theft': 1568, 'opened': 1087, 'phenomenal': 1163, 'exceptional': 535, 'screams': 1357, 'legit': 885, 'book': 184, 'somethat': 1444, 'del': 396, 'taco': 1538, 'avoided': 103, 'preparing': 1208, 'bloody': 175, 'mary': 962, 'overcooked': 1112, 'charcoal': 263, 'please': 1185, 'stir': 1493, 'noodles': 1057, 'poor': 1191, 'thats': 1566, 'thanks': 1564, 'dylan': 481, 'yummy': 1790, 'tummy': 1633, 'fail': 553, 'become': 140, 'glance': 659, 'lovely': 927, 'bakery': 114, 'cafe': 231, 'ha': 705, 'bay': 130, 'flop': 603, 'prime': 1216, 'rib': 1303, 'section': 1367, 'fav': 567, 'voodoo': 1689, 'since': 1421, 'gluten': 661, 'free': 621, 'several': 1391, 'used': 1660, 'menus': 984, 'handed': 713, 'ladies': 866, 'listed': 904, 'highly': 755, 'recommended': 1269, 'firehouse': 590, 'typical': 1639, 'douchey': 453, 'indoor': 815, 'garden': 643, 'tea': 1552, 'bill': 160, 'without': 1755, 'hooked': 770, 'wrapped': 1776, 'dates': 380, 'neither': 1045, 'steiners': 1487, 'workers': 1763, 'handling': 715, 'rowdy': 1320, 'stupid': 1509, 'decent': 385, 'hamburger': 710, 'disappoint': 425, 'hell': 741, 'biscuit': 162, 'pace': 1119, 'joey': 844, 'voted': 1690, 'readers': 1257, 'magazine': 942, 'hated': 727, 'coconut': 301, 'meals': 969, 'pleasure': 1187, 'big': 158, 'ya': 1778, 'fan': 560, 'served': 1381, 'gotten': 672, 'services': 1386, 'diverse': 441, 'reasonably': 1262, 'priced': 1212, 'returning': 1296, 'forty': 615, 'five': 593, 'vain': 1663, '40min': 11, 'passed': 1137, 'between': 156, 'ordering': 1095, 'arriving': 84, 'unbelievable': 1640, 'bargain': 120, 'rge': 1301, 'fillet': 581, 'relleno': 1285, 'plate': 1181, 'mussels': 1027, 'reduction': 1273, 'ground': 693, 'smeared': 1431, 'stepped': 1489, 'tracked': 1616, 'everywhere': 530, 'pile': 1170, 'green': 684, 'bird': 161, 'poop': 1190, 'needs': 1043, 'until': 1653, 'end': 506, 'fabulous': 551, 'vinegrette': 1684, 'assure': 89, 'satifying': 1345, 'lover': 928, 'means': 971, 'liked': 898, 'sound': 1454, 'actual': 27, 'horrible': 775, 'attitudes': 97, 'towards': 1614, 'customers': 373, 'mandalay': 954, 'reminds': 1288, 'shops': 1404, 'san': 1341, 'francisco': 619, 'chipolte': 280, 'ranch': 1245, 'dipping': 422, 'sause': 1349, 'seemed': 1369, 'watered': 1715, 'ok': 1076, 'shoe': 1400, 'leather': 880, 'single': 1422, 'employee': 503, 'water': 1714, 'refill': 1274, 'ample': 50, 'connoisseur': 323, 'difference': 415, 'certainly': 258, 'relax': 1283, 'parents': 1133, 'most': 1014, 'similar': 1417, 'complaints': 317, 'silently': 1416, 'boring': 186, 'extensive': 546, 'provides': 1228, 'lots': 923, 'recently': 1266, 'witnessed': 1756, 'guests': 700, 'thru': 1589, 'half': 709, 'somehow': 1442, 'nicest': 1050, 'chinese': 278, 'rotating': 1318, 'beers': 144, 'tap': 1544, 'highlight': 752, 'exquisite': 545, 'owners': 1117, 'quit': 1242, 'soooooo': 1451, 'freaking': 620, 'papers': 1130, 'sucks': 1520, 'fianc': 578, 'middle': 991, 'greeted': 686, 'crazy': 357, 'crowds': 366, 'juries': 852, 'lawyers': 878, 'court': 347, 'macarons': 939, 'insanely': 821, 'allergy': 39, 'warnings': 1706, 'clue': 298, 'contain': 328, 'peanuts': 1148, 'donut': 450, 'attached': 93, 'gas': 645, 'sign': 1414, 'servers': 1383, 'changing': 261, 'quaint': 1237, 'honest': 767, 'downright': 456, 'anything': 60, 'duo': 478, 'violinists': 1685, 'playing': 1183, 'songs': 1447, 'requested': 1290, 'app': 67, 'eyed': 549, 'peas': 1149, 'unreal': 1652, 'imagined': 802, 'guys': 702, 'loving': 931, 'son': 1446, 'places': 1179, 'north': 1058, 'scottsdale': 1356, 'red': 1271, 'bamboo': 115, 'shoots': 1401, 'apologize': 65, 'mac': 938, 'convenient': 331, 'dirt': 423, 'help': 744, 'delights': 401, 'crust': 368, 'teeth': 1554, 'sore': 1452, 'waaaaaayyyyyyyyyy': 1691, 'saying': 1352, 'paid': 1121, 'venturing': 1677, 'strip': 1505, 'pork': 1194, 'belly': 151, 'return': 1294, 'proven': 1226, 'dead': 382, 'accountant': 25, 'screwed': 1358, 'chains': 260, 'easily': 483, 'soggy': 1438, 'call': 234, 'steakhouse': 1485, 'properly': 1224, 'understand': 1644, 'guacamole': 697, 'pur': 1234, 'ed': 488, 'level': 892, 'spice': 1464, 'whelm': 1733, 'soup': 1455, 'bruschetta': 209, 'devine': 412, 'hilarious': 756, 'christmas': 286, 'eve': 521, 'remember': 1287, 'biggest': 159, 'entire': 514, 'weird': 1726, 'unfortunately': 1647, 'disapppointment': 429, 'thoroughly': 1585, 'thus': 1591, 'visited': 1687, 'honestly': 768, 'blown': 177, 'pancake': 1126, 'college': 306, 'cooking': 334, 'class': 290, 'promise': 1223, 'customize': 374, 'usual': 1661, 'eggplant': 495, 'bean': 133, 'fry': 636, 'brownish': 207, 'obviously': 1068, 'patty': 1144, 'falling': 556, 'apart': 64, 'picture': 1167, 'uploaded': 1657, 'yeah': 1780, 'bbq': 131, 'lighter': 894, 'pricing': 1215, 'public': 1231, 'ways': 1717, 'iced': 795, 'unprofessional': 1651, 'loyal': 934, 'patron': 1143, 'mean': 970, 'famous': 559, 'grandmother': 676, 'same': 1339, 'drastically': 460, 'outta': 1108, 'cold': 304, 'con': 320, 'spotty': 1470, 'classy': 293, 'succulent': 1515, 'baseball': 123, 'undercooked': 1643, 'aren': 77, 'ones': 1084, 'scene': 1355, 'restaurants': 1293, 'bought': 191, 'house': 783, 'fella': 575, 'huevos': 785, 'rancheros': 1246, 'appealing': 70, 'such': 1516, 'surprise': 1532, 'real': 1258, 'hereas': 749, 'tribute': 1623, 'event': 524, 'held': 740, 'spring': 1471, 'oh': 1074, 'empty': 505, 'leftover': 884, 'redeeming': 1272, 'sample': 1340, 'spinach': 1467, 'avocado': 101, 'ingredients': 820, 'patio': 1142, 'comfortable': 311, 'mediterranean': 976, 'fell': 574, 'pricey': 1214, 'round': 1319, 'cashew': 252, 'hankering': 718, 'stood': 1495, 'begin': 146, 'awkwardly': 108, 'disgraceful': 434, 'killer': 860, 'chai': 259, 'latte': 876, 'lived': 908, '1979': 4, 'foot': 610, 'past': 1138, 'brother': 205, 'law': 877, 'works': 1765, 'kids': 859, 'kiddos': 858, 'disbelief': 431, 'qualified': 1238, 'version': 1680, 'foods': 609, 'jamaican': 839, 'mojitos': 1006, 'low': 932, 'key': 855, 'non': 1055, 'fancy': 561, 'affordable': 30, 'informative': 819, 'reheated': 1281, 'wedges': 1722, 'decor': 388, 'calligraphy': 235, 'wall': 1699, 'paper': 1129, 'second': 1366, 'golden': 666, 'fly': 606, 'apple': 74, 'juice': 851, 'regularly': 1280, 'accident': 23, 'happier': 720, 'caballero': 228, 'exceeding': 533, 'dreamed': 462, 'nyc': 1067, 'lox': 933, 'capers': 243, 'hole': 762, 'street': 1501, 'inch': 808, 'piece': 1169, 'wire': 1752, 'whenever': 1735, 'its': 836, 'traditional': 1617, 'hunan': 790, 'inconsiderate': 810, 'continue': 330, 'andddd': 53, 'date': 379, 'anyone': 59, 'monster': 1009, 'dine': 418, 'weekend': 1724, 'cocktails': 300, 'handmade': 716, 'ventilation': 1675, 'upgrading': 1656, 'cause': 257, 'owned': 1115, 'beauty': 138, 'fucking': 638, 'blame': 172, 'placed': 1178, 'consistent': 326, 'boba': 180, 'disgusted': 435, 'flavored': 597, 'moist': 1005, 'worse': 1768, 'humiliated': 788, 'worker': 1762, 'front': 632, 'callings': 236, 'says': 1353, 'hi': 750, 'beyond': 157, 'arrives': 83, 'meh': 978, 'chow': 285, 'mein': 979, 'japanese': 840, 'dude': 476, 'gold': 665, 'standard': 1475, '17': 3, 'inflate': 818, 'smaller': 1429, 'grow': 696, 'rapidly': 1247, 'classics': 292, 'sorely': 1453, 'incredibly': 812, 'prepared': 1207, 'privileged': 1217, 'working': 1764, 'gratuity': 678, 'party': 1136, 'larger': 870, 'vanilla': 1666, 'creamy': 359, 'smooth': 1435, 'profiterole': 1221, 'choux': 284, 'pastry': 1141, 'contained': 329, 'appetite': 71, 'instantly': 824, 'temp': 1556, 'prepare': 1206, 'bare': 118, 'hands': 717, 'gloves': 660, 'deep': 390, 'oil': 1075, 'self': 1374, 'proclaimed': 1219, 'coffee': 303, 'wildly': 1747, 'serivce': 1379, 'bouchon': 190, '2007': 6, 'sunday': 1528, 'tigerlilly': 1592, 'afternoon': 32, 'def': 392, 'below': 152, 'experiencing': 543, 'underwhelming': 1645, 'relationship': 1282, 'parties': 1135, 'person': 1160, 'frozen': 633, 'jerk': 841, 'sexy': 1393, 'outrageously': 1105, 'flirting': 602, 'hottest': 780, 'strawberry': 1500, 'flavourful': 601, 'cape': 242, 'cod': 302, 'ravoli': 1255, 'cranberry': 354, 'mmmm': 1003, 'bus': 220, 'hand': 712, 'miss': 999, 'wish': 1753, 'philadelphia': 1164, 'star': 1476, '90': 17, 'madison': 941, 'ironman': 831, 'metro': 987, 'bucks': 210, 'head': 733, 'caterpillar': 255, 'officially': 1073, 'circumstances': 288, 'tops': 1608, 'freezing': 622, 'forth': 614, 'hardly': 723, 'flavors': 600, 'slaw': 1425, 'drenched': 463, 'bits': 169, 'original': 1097, 'likes': 899, 'case': 250, 'colder': 305, 'anyways': 63, 'filling': 582, 'third': 1582, 'spends': 1463, 'talking': 1543, 'themselves': 1571, 'pastas': 1140, 'power': 1204, 'letdown': 889, 'camelback': 238, 'flower': 604, 'shop': 1402, 'cartel': 249, 'greens': 685, 'hearts': 738, 'palm': 1124, 'wines': 1750, 'wide': 1744, 'array': 81, 'relocated': 1286, 'egg': 494, 'car': 244, 'breaks': 200, 'starving': 1479, 'hopes': 773, 'stuff': 1507, 'decide': 386, 'driving': 472, 'tucson': 1632, 'sour': 1457, 'soups': 1456, 'summer': 1526, 'charming': 264, 'outdoor': 1104, 'staying': 1483, 'mgm': 989, 'besides': 153, 'costco': 338, 'serves': 1384, 'space': 1459, 'tiny': 1595, 'elegantly': 498, 'tater': 1551, 'southwest': 1458, 'pleasant': 1184, 'honor': 769, 'hut': 792, 'coupons': 345, 'carly': 247, 'worries': 1767, 'absolute': 20, 'burrittos': 219, 'blah': 171, 'dripping': 470, 'mostly': 1015, 'edible': 489, 'bartender': 121, 'personable': 1161, 'veggitarian': 1674, 'platter': 1182, 'awkward': 107, '5lb': 14, '4ths': 13, 'gristle': 689, 'fat': 566}\n"
     ]
    }
   ],
   "source": [
    "print(\"Vocabulary size: {}\".format(len(vectorizer.vocabulary_)))\n",
    "print()\n",
    "print(\"Vocabulary details: {}\".format(vectorizer.vocabulary_))"
   ]
  },
  {
   "cell_type": "code",
   "execution_count": 218,
   "metadata": {},
   "outputs": [
    {
     "name": "stdout",
     "output_type": "stream",
     "text": [
      "X_train_vect: <800x1792 sparse matrix of type '<class 'numpy.int64'>'\n",
      "\twith 7843 stored elements in Compressed Sparse Row format>\n"
     ]
    }
   ],
   "source": [
    "# To create the \"bag-of_words\" representation we call the transform method or transform documents to document-term matrix.\n",
    "X_train_vect = vectorizer.transform(X_train)\n",
    "print(\"X_train_vect: {}\".format(repr(X_train_vect)))"
   ]
  },
  {
   "cell_type": "code",
   "execution_count": 219,
   "metadata": {},
   "outputs": [
    {
     "name": "stdout",
     "output_type": "stream",
     "text": [
      "Dense representation of bag_of_words:: \n",
      "[[0 0 0 ... 0 0 0]\n",
      " [0 0 0 ... 0 0 0]\n",
      " [0 0 0 ... 0 0 0]\n",
      " ...\n",
      " [0 0 0 ... 0 0 0]\n",
      " [0 0 0 ... 0 0 0]\n",
      " [0 0 0 ... 0 0 0]]\n"
     ]
    }
   ],
   "source": [
    "print(\"Dense representation of bag_of_words:: \\n{}\".format(X_train_vect.toarray()))"
   ]
  },
  {
   "cell_type": "markdown",
   "metadata": {},
   "source": [
    "Examine Bag of Words"
   ]
  },
  {
   "cell_type": "code",
   "execution_count": 220,
   "metadata": {},
   "outputs": [
    {
     "name": "stdout",
     "output_type": "stream",
     "text": [
      "Number of features: 1792\n",
      "\n",
      "First 20 features: \n",
      "['10', '100', '12', '17', '1979', '20', '2007', '30', '30s', '35', '40', '40min', '45', '4ths', '5lb', '70', '85', '90', 'about', 'above', 'absolute', 'absolutely', 'absolutley', 'accident', 'accomodate', 'accountant', 'acknowledged', 'actual', 'actually', 'added', 'affordable', 'after', 'afternoon', 'again', 'ago', 'ahead', 'airline', 'ala', 'all', 'allergy']\n",
      "\n",
      "A lot numbers have been converted to tokens - do they have any meaning?\n",
      "Spelling mistakes\n"
     ]
    }
   ],
   "source": [
    "feature_names = vectorizer.get_feature_names()\n",
    "\n",
    "print(\"Number of features: {}\".format(len(feature_names)))\n",
    "print()\n",
    "print(\"First 20 features: \\n{}\".format(feature_names[:40]))\n",
    "print()\n",
    "print(\"A lot numbers have been converted to tokens - do they have any meaning?\")\n",
    "print(\"Spelling mistakes\")"
   ]
  },
  {
   "cell_type": "code",
   "execution_count": 221,
   "metadata": {},
   "outputs": [
    {
     "name": "stdout",
     "output_type": "stream",
     "text": [
      "Features 500 to 550: \n",
      "['else', 'elsewhere', 'email', 'employee', 'employees', 'empty', 'end', 'ended', 'english', 'enjoy', 'enjoyable', 'enjoyed', 'enough', 'ensued', 'entire', 'entrees', 'equally', 'especially', 'establishment', 'etc', 'ethic', 'eve', 'even', 'evening', 'event', 'events', 'ever', 'every', 'everyone', 'everything', 'everywhere', 'exactly', 'excalibur', 'exceeding', 'excellent', 'exceptional', 'excuse', 'expanded', 'expect', 'expectations', 'expected', 'experience', 'experienced', 'experiencing', 'expert', 'exquisite', 'extensive', 'extra', 'extremely', 'eyed']\n",
      "\n",
      "Singular and plurals - e.g. employee and employees\n",
      "Similar words with little difference in meaning - 'experience', 'experienced', 'experiencing' \n"
     ]
    }
   ],
   "source": [
    "print(\"Features 500 to 550: \\n{}\".format(feature_names[500:550]))\n",
    "print()\n",
    "print(\"Singular and plurals - e.g. employee and employees\")\n",
    "print(\"Similar words with little difference in meaning - 'experience', 'experienced', 'experiencing' \")"
   ]
  },
  {
   "cell_type": "code",
   "execution_count": 222,
   "metadata": {},
   "outputs": [
    {
     "name": "stdout",
     "output_type": "stream",
     "text": [
      "Every 25th feature: \n",
      "['10', 'accountant', 'ample', 'are', 'average', 'basically', 'bellies', 'bloody', 'breaks', 'butter', 'case', 'chewy', 'cocktails', 'considering', 'covers', 'cut', 'delightful', 'disappoint', 'donut', 'duck', 'else', 'events', 'eyes', 'fella', 'flavors', 'fridays', 'generous', 'grain', 'guests', 'hasn', 'hi', 'horrible', 'imagination', 'instead', 'judging', 'later', 'liking', 'love', 'mall', 'mediocre', 'missed', 'multiple', 'nicest', 'oil', 'otto', 'pan', 'pecan', 'pizza', 'potato', 'pros', 'raspberry', 'refrained', 'revisiting', 'rushed', 'saving', 'send', 'shoe', 'slaw', 'sooooo', 'standard', 'strawberry', 'summary', 'tasty', 'they', 'today', 'trimmed', 'unless', 'ventilation', 'walls', 'weekly', 'wines', 'wrap']\n",
      "\n",
      "'hasn', \n"
     ]
    }
   ],
   "source": [
    "print(\"Every 25th feature: \\n{}\".format(feature_names[::25]))\n",
    "print()\n",
    "print(\"'hasn', \")"
   ]
  },
  {
   "cell_type": "markdown",
   "metadata": {},
   "source": [
    "Perform baseline before we try to improve"
   ]
  },
  {
   "cell_type": "code",
   "execution_count": 223,
   "metadata": {},
   "outputs": [],
   "source": [
    "# Build a classifier\n",
    "from sklearn.model_selection import cross_val_score\n",
    "from sklearn.linear_model import LogisticRegression"
   ]
  },
  {
   "cell_type": "code",
   "execution_count": 224,
   "metadata": {},
   "outputs": [
    {
     "data": {
      "text/plain": [
       "LogisticRegression()"
      ]
     },
     "execution_count": 224,
     "metadata": {},
     "output_type": "execute_result"
    }
   ],
   "source": [
    "model = LogisticRegression()\n",
    "model"
   ]
  },
  {
   "cell_type": "code",
   "execution_count": 225,
   "metadata": {},
   "outputs": [],
   "source": [
    "scores = cross_val_score(model, X_train_vect, y_train, cv=5)"
   ]
  },
  {
   "cell_type": "code",
   "execution_count": 226,
   "metadata": {},
   "outputs": [
    {
     "name": "stdout",
     "output_type": "stream",
     "text": [
      "Mean cross-validation accuracy: 0.811\n"
     ]
    }
   ],
   "source": [
    "print(\"Mean cross-validation accuracy: {:.3f}\".format(np.mean(scores)))"
   ]
  },
  {
   "cell_type": "markdown",
   "metadata": {},
   "source": [
    "Reasonable performance for a balanced binary classification task. Try tuning regularization paramenter C to improve result."
   ]
  },
  {
   "cell_type": "code",
   "execution_count": 253,
   "metadata": {},
   "outputs": [
    {
     "name": "stdout",
     "output_type": "stream",
     "text": [
      "Best cross-validation score: 0.814\n",
      "Best parameters:  {'C': 10}\n"
     ]
    }
   ],
   "source": [
    "from sklearn.model_selection import GridSearchCV\n",
    "param_grid = {\"C\":[0.001, 0.01, 0.1, 1, 10]}\n",
    "grid = GridSearchCV(model, param_grid, cv=5)\n",
    "grid.fit(X_train_vect, y_train)\n",
    "print(\"Best cross-validation score: {:.3f}\".format(grid.best_score_))\n",
    "print(\"Best parameters: \", grid.best_params_)"
   ]
  },
  {
   "cell_type": "markdown",
   "metadata": {},
   "source": [
    "Assess the generalization performance on the test set using a C=10"
   ]
  },
  {
   "cell_type": "code",
   "execution_count": 254,
   "metadata": {},
   "outputs": [
    {
     "name": "stdout",
     "output_type": "stream",
     "text": [
      "0.810\n"
     ]
    }
   ],
   "source": [
    "X_test_vect = vectorizer.transform(X_test)\n",
    "print(\"{:.3f}\".format(grid.score(X_test_vect, y_test)))"
   ]
  },
  {
   "cell_type": "markdown",
   "metadata": {},
   "source": [
    "Improve extraction of words"
   ]
  },
  {
   "cell_type": "markdown",
   "metadata": {},
   "source": [
    "CountVectorizer extracts tokens using a regular expression \"\\b\\w\\w+\\b\" which finds all sequences of characters that consist of at least 2 letters or numbers (\\w) and are separated by word boundaries. It splits contractions like doesn't into doesn and t. It converts all words to lowercase."
   ]
  },
  {
   "cell_type": "code",
   "execution_count": 299,
   "metadata": {},
   "outputs": [
    {
     "name": "stdout",
     "output_type": "stream",
     "text": [
      "X_train_vect with mind_df: <800x744 sparse matrix of type '<class 'numpy.int64'>'\n",
      "\twith 6795 stored elements in Compressed Sparse Row format>\n"
     ]
    }
   ],
   "source": [
    "# Remove some of the useless tokens by setting a minimum number of documents a token needs to appear in with min_df\n",
    "vectorizer = CountVectorizer(min_df=2).fit(X_train)\n",
    "X_train_vect = vectorizer.transform(X_train)\n",
    "print(\"X_train_vect with mind_df: {}\".format(repr(X_train_vect)))"
   ]
  },
  {
   "cell_type": "code",
   "execution_count": 300,
   "metadata": {},
   "outputs": [
    {
     "name": "stdout",
     "output_type": "stream",
     "text": [
      "Number of features: 744\n",
      "\n",
      "First 20 features: \n",
      "['10', '20', '30', '35', '40', 'about', 'absolutely', 'added', 'after', 'again', 'ago', 'all', 'almost', 'also', 'although', 'always', 'am', 'amazing', 'ambiance', 'amount', 'an', 'and', 'another', 'any', 'anyone', 'anything', 'anytime', 'anyway', 'appetizers', 'are', 'area', 'around', 'arrived', 'as', 'ask', 'asked', 'assure', 'at', 'ate', 'atmosphere']\n",
      "\n",
      "Features 100 to 150: \n",
      "['bunch', 'burger', 'burgers', 'business', 'busy', 'but', 'butter', 'by', 'cafe', 'came', 'can', 'cannot', 'cant', 'care', 'cashier', 'char', 'charcoal', 'cheap', 'check', 'checked', 'cheese', 'cheeseburger', 'chef', 'chewy', 'chicken', 'chinese', 'chips', 'choose', 'clean', 'close', 'coffee', 'cold', 'color', 'come', 'comfortable', 'coming', 'company', 'complain', 'completely', 'considering', 'convenient', 'cook', 'cooked', 'cool', 'could', 'couple', 'course', 'cow', 'crazy', 'cream']\n",
      "\n",
      "Every 25th feature: \n",
      "['10', 'anything', 'back', 'better', 'bunch', 'chinese', 'creamy', 'different', 'drinks', 'every', 'filet', 'gave', 'happened', 'hours', 'joke', 'll', 'mayo', 'need', 'only', 'pasta', 'presentation', 'restaurant', 'scallop', 'simply', 'steaks', 'tea', 'time', 'unfortunately', 'warm', 'wonderful']\n"
     ]
    }
   ],
   "source": [
    "feature_names = vectorizer.get_feature_names()\n",
    "print(\"Number of features: {}\".format(len(feature_names)))\n",
    "print()\n",
    "print(\"First 20 features: \\n{}\".format(feature_names[:40]))\n",
    "print()\n",
    "print(\"Features 100 to 150: \\n{}\".format(feature_names[100:150]))\n",
    "print()\n",
    "print(\"Every 25th feature: \\n{}\".format(feature_names[::25]))"
   ]
  },
  {
   "cell_type": "code",
   "execution_count": 301,
   "metadata": {},
   "outputs": [
    {
     "data": {
      "text/plain": [
       "LogisticRegression()"
      ]
     },
     "execution_count": 301,
     "metadata": {},
     "output_type": "execute_result"
    }
   ],
   "source": [
    "model2 = LogisticRegression()\n",
    "model2"
   ]
  },
  {
   "cell_type": "code",
   "execution_count": 302,
   "metadata": {},
   "outputs": [],
   "source": [
    "grid = GridSearchCV(model2, param_grid, cv=5)"
   ]
  },
  {
   "cell_type": "code",
   "execution_count": 303,
   "metadata": {},
   "outputs": [
    {
     "data": {
      "text/plain": [
       "GridSearchCV(cv=5, estimator=LogisticRegression(),\n",
       "             param_grid={'C': [0.001, 0.01, 0.1, 1, 10]})"
      ]
     },
     "execution_count": 303,
     "metadata": {},
     "output_type": "execute_result"
    }
   ],
   "source": [
    "grid.fit(X_train_vect, y_train)"
   ]
  },
  {
   "cell_type": "code",
   "execution_count": 304,
   "metadata": {},
   "outputs": [
    {
     "name": "stdout",
     "output_type": "stream",
     "text": [
      "Best cross-validation score: 0.814\n",
      "Best parameters:  {'C': 10}\n"
     ]
    }
   ],
   "source": [
    "print(\"Best cross-validation score: {:.3f}\".format(grid.best_score_))\n",
    "print(\"Best parameters: \", grid.best_params_)"
   ]
  },
  {
   "cell_type": "code",
   "execution_count": 306,
   "metadata": {},
   "outputs": [
    {
     "name": "stdout",
     "output_type": "stream",
     "text": [
      "0.810\n"
     ]
    }
   ],
   "source": [
    "X_test_vect = vectorizer.transform(X_test)\n",
    "print(\"{:.3f}\".format(grid.score(X_test_vect, y_test)))"
   ]
  },
  {
   "cell_type": "markdown",
   "metadata": {},
   "source": [
    "Reduced features from 1792 to 744 with no loss in model accuracy"
   ]
  },
  {
   "cell_type": "markdown",
   "metadata": {},
   "source": [
    "# Stopwords"
   ]
  },
  {
   "cell_type": "code",
   "execution_count": 311,
   "metadata": {
    "scrolled": true
   },
   "outputs": [
    {
     "name": "stdout",
     "output_type": "stream",
     "text": [
      "Number of stop words: 318\n",
      "Every 10th stopword: \n",
      "['been', 'most', 'from', 'thick', 'at', 'describe', 'has', 'myself', 'your', 'eleven', 'hence', 'whereafter', 'everything', 'will', 'whatever', 'mine', 'call', 'thin', 'without', 'while', 'out', 'fifteen', 'un', 'thence', 'whereby', 'twenty', 'otherwise', 'to', 'of', 'show', 'seemed', 'please']\n"
     ]
    }
   ],
   "source": [
    "from sklearn.feature_extraction.text import ENGLISH_STOP_WORDS\n",
    "print(\"Number of stop words: {}\".format(len(ENGLISH_STOP_WORDS)))\n",
    "print(\"Every 10th stopword: \\n{}\".format(list(ENGLISH_STOP_WORDS)[::10]))"
   ]
  },
  {
   "cell_type": "code",
   "execution_count": 317,
   "metadata": {},
   "outputs": [
    {
     "name": "stdout",
     "output_type": "stream",
     "text": [
      "X_train_vect with stop words:\n",
      "<800x576 sparse matrix of type '<class 'numpy.int64'>'\n",
      "\twith 2940 stored elements in Compressed Sparse Row format>\n"
     ]
    }
   ],
   "source": [
    "vectorizer = CountVectorizer(min_df=2, stop_words = \"english\").fit(X_train)\n",
    "X_train_vect = vectorizer.transform(X_train)\n",
    "print(\"X_train_vect with stop words:\\n{}\".format(repr(X_train_vect)))"
   ]
  },
  {
   "cell_type": "code",
   "execution_count": 318,
   "metadata": {},
   "outputs": [
    {
     "name": "stdout",
     "output_type": "stream",
     "text": [
      "Best cross-validation score: 0.795\n",
      "Best parameters:  {'C': 1}\n"
     ]
    }
   ],
   "source": [
    "model3 = LogisticRegression()\n",
    "grid = GridSearchCV(model3, param_grid, cv=5)\n",
    "grid.fit(X_train_vect, y_train)\n",
    "print(\"Best cross-validation score: {:.3f}\".format(grid.best_score_))\n",
    "print(\"Best parameters: \", grid.best_params_)"
   ]
  },
  {
   "cell_type": "markdown",
   "metadata": {},
   "source": [
    "# Rescaling the Data with tf-idf"
   ]
  },
  {
   "cell_type": "markdown",
   "metadata": {},
   "source": [
    "Term Frequency (TF) - Inverse Document Frequency (IDF) - i.e. give a high weight to any term that appears often in a particular document, but not in very many documents in the corpus. If a word appears many times in a document, but not in very many documents, it is likely to be descriptive of those documents."
   ]
  },
  {
   "cell_type": "code",
   "execution_count": 339,
   "metadata": {},
   "outputs": [
    {
     "name": "stdout",
     "output_type": "stream",
     "text": [
      "Best cross-validation score: 0.823\n"
     ]
    }
   ],
   "source": [
    "from sklearn.feature_extraction.text import TfidfVectorizer\n",
    "from sklearn.pipeline import make_pipeline\n",
    "pipe = make_pipeline(TfidfVectorizer(min_df=1, norm=None), LogisticRegression())\n",
    "param_grid = {'logisticregression__C': [0.001, 0.01,0.1, 1, 10]}\n",
    "grid = GridSearchCV(pipe, param_grid, cv=5)\n",
    "grid.fit(X_train, y_train)\n",
    "print(\"Best cross-validation score: {:.3f}\".format(grid.best_score_))"
   ]
  },
  {
   "cell_type": "code",
   "execution_count": 344,
   "metadata": {},
   "outputs": [
    {
     "name": "stdout",
     "output_type": "stream",
     "text": [
      "Number of features: 1792\n",
      "\n",
      "Features with lowest tfidf:\n",
      "['service' 'my' 'but' 'have' 'at' 'here' 'time' 'go' 'one' 'just' 'out'\n",
      " 'don' 'delicious' 'would' 'friendly' 'ever' 'your' 'by' 'only' 'also'\n",
      " 'nice' 'came' 'restaurant' 'again' 'vegas' 'amazing' 'us' 'when' 'won'\n",
      " 'experience' 'going' 'disappointed' 'first' 'love' 'even' 'eat' 'because'\n",
      " 'about' 'say' 'salad' 'me' 'too' 'much' 'fresh' 'or' 'which' 'think'\n",
      " 'definitely' 'always' 'could']\n",
      "\n",
      "Features with highest tfidf:\n",
      "['well' 'stars' 'we' 'quality' 'than' 'night' 'to' 'great' 'slow' 'sauce'\n",
      " 'probably' 'hot' 'selection' 'she' 'burger' 'flavor' 'meal' 'sandwich'\n",
      " 'another' 'dining' 'dishes' 'once' 'you' 'area' 'long' 'overpriced'\n",
      " 'talk' 'pasta' 'zero' 'party' 'worse' 'flat' 'salsa' 'greek' 'sucked'\n",
      " 'crowd' 'yum' 'marrow' 'shower' 'tribute' 'customers' 'bye' 'crab' 'fly'\n",
      " 'legs' 'subway' 'steak' 'wait' 'waited' 'said']\n"
     ]
    }
   ],
   "source": [
    "vectorizer = grid.best_estimator_.named_steps[\"tfidfvectorizer\"]\n",
    "# transform the training dataset\n",
    "X_train_vect = vectorizer.transform(X_train)\n",
    "# find maximum value for each of the features over the dataset\n",
    "max_value = X_train_vect.max(axis=0).toarray().ravel()\n",
    "sorted_by_tfidf = max_value.argsort()\n",
    "# get feature names\n",
    "feature_names = np.array(vectorizer.get_feature_names())\n",
    "print(\"Number of features: {}\".format(len(feature_names)))\n",
    "print()\n",
    "print(\"Features with lowest tfidf:\\n{}\".format(feature_names[sorted_by_tfidf[:50]]))\n",
    "print()\n",
    "print(\"Features with highest tfidf:\\n{}\".format(feature_names[sorted_by_tfidf[-50:]]))"
   ]
  },
  {
   "cell_type": "code",
   "execution_count": 346,
   "metadata": {},
   "outputs": [
    {
     "name": "stdout",
     "output_type": "stream",
     "text": [
      "Features with lowest idf:\n",
      "['the' 'and' 'was' 'to' 'is' 'it' 'this' 'of' 'food' 'not' 'in' 'place'\n",
      " 'for' 'good' 'we' 'service' 'my' 'had' 'great' 'that' 'with' 'so' 'were'\n",
      " 'be' 'back' 'but' 'very' 'have' 'you' 'at' 'here' 'are' 'on' 'they'\n",
      " 'like' 'all' 'time' 'our' 'really' 'will' 'go' 'there' 'as' 'an' 'best'\n",
      " 'one' 'just' 'don' 'out' 'their' 'would' 'delicious' 'up' 'friendly'\n",
      " 'your' 'ever' 'only' 'by' 'also' 'nice' 'no' 'restaurant' 'can' 'did'\n",
      " 'came' 'if' 'again' 'vegas' 'what' 'when' 'amazing' 'us' 'from'\n",
      " 'experience' 'going' 'pretty' 'never' 'won' 'even' 'first' 'been'\n",
      " 'disappointed' 'eat' 'love' 'got' 'much' 'bad' 'about' 'some' 'because'\n",
      " 'too' 'me' 'salad' 'get' 'say' 'fresh' 'which' 'staff' 've' 'he']\n"
     ]
    }
   ],
   "source": [
    "sorted_by_idf = np.argsort(vectorizer.idf_)\n",
    "print(\"Features with lowest idf:\\n{}\".format(feature_names[sorted_by_idf[:100]]))"
   ]
  },
  {
   "cell_type": "markdown",
   "metadata": {},
   "source": [
    "# Model Coefficients"
   ]
  },
  {
   "cell_type": "code",
   "execution_count": 384,
   "metadata": {},
   "outputs": [
    {
     "data": {
      "image/png": "[encoded data removed]",
      "text/plain": [
       "<Figure size 1080x360 with 1 Axes>"
      ]
     },
     "metadata": {
      "needs_background": "light"
     },
     "output_type": "display_data"
    }
   ],
   "source": [
    "import mglearn\n",
    "mglearn.tools.visualize_coefficients(grid.best_estimator_.named_steps[\"logisticregression\"]\n",
    "    .coef_, feature_names, n_top_features=20)"
   ]
  },
  {
   "cell_type": "markdown",
   "metadata": {},
   "source": [
    "# Bag of Words with more than one word (n-Grams)"
   ]
  },
  {
   "cell_type": "markdown",
   "metadata": {},
   "source": [
    "In bag-of-words, word order is discarded."
   ]
  },
  {
   "cell_type": "code",
   "execution_count": 382,
   "metadata": {},
   "outputs": [
    {
     "name": "stdout",
     "output_type": "stream",
     "text": [
      "Best cross-validation score: 0.818\n",
      "Best parameters: \n",
      "{'logisticregression__C': 10, 'tfidfvectorizer__ngram_range': (1, 1)}\n"
     ]
    }
   ],
   "source": [
    "pipe = make_pipeline(TfidfVectorizer(min_df=1), LogisticRegression())\n",
    "# running the grid search takes a long time because of the large grid and inclusion of tri-grams\n",
    "param_grid = {\"logisticregression__C\": [0.001, 0.01, 0.1, 1, 10, 100], \"tfidfvectorizer__ngram_range\": [(1,1), (1,2), (1,3)]}\n",
    "grid = GridSearchCV(pipe, param_grid, cv=5)\n",
    "grid.fit(X_train, y_train)\n",
    "print(\"Best cross-validation score: {:.3f}\".format(grid.best_score_))\n",
    "print(\"Best parameters: \\n{}\".format(grid.best_params_))"
   ]
  },
  {
   "cell_type": "code",
   "execution_count": 383,
   "metadata": {},
   "outputs": [
    {
     "data": {
      "text/plain": [
       "<matplotlib.colorbar.Colorbar at 0x197683e7670>"
      ]
     },
     "execution_count": 383,
     "metadata": {},
     "output_type": "execute_result"
    },
    {
     "data": {
      "image/png": "[encoded data removed]",
      "text/plain": [
       "<Figure size 432x288 with 2 Axes>"
      ]
     },
     "metadata": {
      "needs_background": "light"
     },
     "output_type": "display_data"
    }
   ],
   "source": [
    "# extract scores from grid_search\n",
    "import matplotlib.pyplot as plt\n",
    "scores = grid.cv_results_[\"mean_test_score\"].reshape(-1,3).T\n",
    "# visualize heat map\n",
    "heatmap = mglearn.tools.heatmap(\n",
    "    scores, xlabel=\"C\", ylabel=\"ngram_range\", cmap=\"viridis\", fmt=\"%.3f\", \n",
    "    xticklabels=param_grid[\"logisticregression__C\"],\n",
    "    yticklabels=param_grid[\"tfidfvectorizer__ngram_range\"])\n",
    "plt.colorbar(heatmap)"
   ]
  },
  {
   "cell_type": "code",
   "execution_count": 385,
   "metadata": {},
   "outputs": [
    {
     "data": {
      "image/png": "[encoded data removed]",
      "text/plain": [
       "<Figure size 1080x360 with 1 Axes>"
      ]
     },
     "metadata": {
      "needs_background": "light"
     },
     "output_type": "display_data"
    }
   ],
   "source": [
    "# extract feature names and coefficients\n",
    "vect = grid.best_estimator_.named_steps['tfidfvectorizer']\n",
    "feature_names = np.array(vect.get_feature_names())\n",
    "coef = grid.best_estimator_.named_steps['logisticregression'].coef_\n",
    "mglearn.tools.visualize_coefficients(coef, feature_names, n_top_features=20)"
   ]
  },
  {
   "cell_type": "code",
   "execution_count": null,
   "metadata": {},
   "outputs": [],
   "source": []
  }
 ],
 "metadata": {
  "kernelspec": {
   "display_name": "Python [conda env:PythonData3] *",
   "language": "python",
   "name": "conda-env-PythonData3-py"
  },
  "language_info": {
   "codemirror_mode": {
    "name": "ipython",
    "version": 3
   },
   "file_extension": ".py",
   "mimetype": "text/x-python",
   "name": "python",
   "nbconvert_exporter": "python",
   "pygments_lexer": "ipython3",
   "version": "3.8.5"
  }
 },
 "nbformat": 4,
 "nbformat_minor": 4
}
