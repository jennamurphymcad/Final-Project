{
 "cells": [
  {
   "cell_type": "code",
   "execution_count": 2,
   "metadata": {},
   "outputs": [],
   "source": [
    "import spacy\n",
    "import pandas as pd"
   ]
  },
  {
   "cell_type": "code",
   "execution_count": 3,
   "metadata": {},
   "outputs": [],
   "source": [
    "import re\n",
    "regexp = re.compile('(?u)\\\\b\\\\w\\\\w+\\\\b')"
   ]
  },
  {
   "cell_type": "code",
   "execution_count": 4,
   "metadata": {},
   "outputs": [],
   "source": [
    "doc = \"Once upon a time they're was a very bad man. He lived in a big castle on the hill and experienced experiences that nobody could possibly imagine. Another man was living with his friend.\""
   ]
  },
  {
   "cell_type": "code",
   "execution_count": 20,
   "metadata": {},
   "outputs": [
    {
     "data": {
      "text/plain": [
       "['Once',\n",
       " 'upon',\n",
       " 'time',\n",
       " 'they',\n",
       " 're',\n",
       " 'was',\n",
       " 'very',\n",
       " 'bad',\n",
       " 'man',\n",
       " 'He',\n",
       " 'lived',\n",
       " 'in',\n",
       " 'big',\n",
       " 'castle',\n",
       " 'on',\n",
       " 'the',\n",
       " 'hill',\n",
       " 'and',\n",
       " 'experienced',\n",
       " 'experiences',\n",
       " 'that',\n",
       " 'nobody',\n",
       " 'could',\n",
       " 'possibly',\n",
       " 'imagine',\n",
       " 'Another',\n",
       " 'man',\n",
       " 'was',\n",
       " 'living',\n",
       " 'with',\n",
       " 'his',\n",
       " 'friend']"
      ]
     },
     "execution_count": 20,
     "metadata": {},
     "output_type": "execute_result"
    }
   ],
   "source": [
    "a = regexp.findall(doc)\n",
    "a"
   ]
  },
  {
   "cell_type": "code",
   "execution_count": 6,
   "metadata": {},
   "outputs": [],
   "source": [
    "en_nlp = spacy.load('en_core_web_sm', disable=['parser', 'ner'])"
   ]
  },
  {
   "cell_type": "code",
   "execution_count": 7,
   "metadata": {},
   "outputs": [
    {
     "data": {
      "text/plain": [
       "Once upon a time they're was a very bad man. He lived in a big castle on the hill and experienced experiences that nobody could possibly imagine. Another man was living with his friend."
      ]
     },
     "execution_count": 7,
     "metadata": {},
     "output_type": "execute_result"
    }
   ],
   "source": [
    "nlp_doc = en_nlp(doc)\n",
    "nlp_doc"
   ]
  },
  {
   "cell_type": "code",
   "execution_count": null,
   "metadata": {},
   "outputs": [],
   "source": []
  },
  {
   "cell_type": "code",
   "execution_count": 8,
   "metadata": {},
   "outputs": [],
   "source": [
    "from spacy.tokens import Doc"
   ]
  },
  {
   "cell_type": "code",
   "execution_count": 9,
   "metadata": {},
   "outputs": [],
   "source": [
    "# new_en_nlp = Doc(nlp_doc.vocab, words=[t.text for t in nlp_doc])"
   ]
  },
  {
   "cell_type": "code",
   "execution_count": null,
   "metadata": {},
   "outputs": [],
   "source": []
  },
  {
   "cell_type": "code",
   "execution_count": 10,
   "metadata": {},
   "outputs": [],
   "source": [
    "token_lemma_data = [token.lemma_ for token in nlp_doc.doc]\n",
    "token_ = [token for token in nlp_doc]"
   ]
  },
  {
   "cell_type": "code",
   "execution_count": 19,
   "metadata": {},
   "outputs": [
    {
     "data": {
      "text/plain": [
       "['once',\n",
       " 'upon',\n",
       " 'a',\n",
       " 'time',\n",
       " 'they',\n",
       " 'be',\n",
       " 'be',\n",
       " 'a',\n",
       " 'very',\n",
       " 'bad',\n",
       " 'man',\n",
       " '.',\n",
       " 'he',\n",
       " 'live',\n",
       " 'in',\n",
       " 'a',\n",
       " 'big',\n",
       " 'castle',\n",
       " 'on',\n",
       " 'the',\n",
       " 'hill',\n",
       " 'and',\n",
       " 'experienced',\n",
       " 'experience',\n",
       " 'that',\n",
       " 'nobody',\n",
       " 'could',\n",
       " 'possibly',\n",
       " 'imagine',\n",
       " '.',\n",
       " 'another',\n",
       " 'man',\n",
       " 'be',\n",
       " 'live',\n",
       " 'with',\n",
       " 'his',\n",
       " 'friend',\n",
       " '.']"
      ]
     },
     "execution_count": 19,
     "metadata": {},
     "output_type": "execute_result"
    }
   ],
   "source": [
    "b = token_lemma_data\n",
    "b"
   ]
  },
  {
   "cell_type": "code",
   "execution_count": 23,
   "metadata": {},
   "outputs": [
    {
     "data": {
      "text/html": [
       "<div>\n",
       "<style scoped>\n",
       "    .dataframe tbody tr th:only-of-type {\n",
       "        vertical-align: middle;\n",
       "    }\n",
       "\n",
       "    .dataframe tbody tr th {\n",
       "        vertical-align: top;\n",
       "    }\n",
       "\n",
       "    .dataframe thead th {\n",
       "        text-align: right;\n",
       "    }\n",
       "</style>\n",
       "<table border=\"1\" class=\"dataframe\">\n",
       "  <thead>\n",
       "    <tr style=\"text-align: right;\">\n",
       "      <th></th>\n",
       "      <th>Tokens</th>\n",
       "      <th>Lemmas</th>\n",
       "    </tr>\n",
       "  </thead>\n",
       "  <tbody>\n",
       "  </tbody>\n",
       "</table>\n",
       "</div>"
      ],
      "text/plain": [
       "Empty DataFrame\n",
       "Columns: [Tokens, Lemmas]\n",
       "Index: []"
      ]
     },
     "execution_count": 23,
     "metadata": {},
     "output_type": "execute_result"
    }
   ],
   "source": [
    "pd.DataFrame(columns = {\"Tokens\": a, \"Lemmas\": b})"
   ]
  },
  {
   "cell_type": "code",
   "execution_count": null,
   "metadata": {},
   "outputs": [],
   "source": [
    "pd.DataFrame"
   ]
  }
 ],
 "metadata": {
  "kernelspec": {
   "display_name": "Python 3",
   "language": "python",
   "name": "python3"
  },
  "language_info": {
   "codemirror_mode": {
    "name": "ipython",
    "version": 3
   },
   "file_extension": ".py",
   "mimetype": "text/x-python",
   "name": "python",
   "nbconvert_exporter": "python",
   "pygments_lexer": "ipython3",
   "version": "3.8.5"
  }
 },
 "nbformat": 4,
 "nbformat_minor": 4
}
