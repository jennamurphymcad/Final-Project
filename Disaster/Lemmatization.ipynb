{
 "cells": [
  {
   "cell_type": "code",
   "execution_count": 2,
   "metadata": {},
   "outputs": [],
   "source": [
    "import spacy\n",
    "import pandas as pd"
   ]
  },
  {
   "cell_type": "code",
   "execution_count": 5,
   "metadata": {},
   "outputs": [],
   "source": [
    "import re\n",
    "regexp = re.compile('(?u)\\\\b\\\\w\\\\w+\\\\b')"
   ]
  },
  {
   "cell_type": "code",
   "execution_count": 80,
   "metadata": {},
   "outputs": [],
   "source": [
    "doc = \"Once upon a time they're was a very bad man. He lived in a big castle on the hill and experienced experiences that nobody could possibly imagine\""
   ]
  },
  {
   "cell_type": "code",
   "execution_count": 81,
   "metadata": {},
   "outputs": [
    {
     "data": {
      "text/plain": [
       "['Once',\n",
       " 'upon',\n",
       " 'time',\n",
       " 'they',\n",
       " 're',\n",
       " 'was',\n",
       " 'very',\n",
       " 'bad',\n",
       " 'man',\n",
       " 'He',\n",
       " 'lived',\n",
       " 'in',\n",
       " 'big',\n",
       " 'castle',\n",
       " 'on',\n",
       " 'the',\n",
       " 'hill',\n",
       " 'and',\n",
       " 'experienced',\n",
       " 'experiences',\n",
       " 'that',\n",
       " 'nobody',\n",
       " 'could',\n",
       " 'possibly',\n",
       " 'imagine']"
      ]
     },
     "execution_count": 81,
     "metadata": {},
     "output_type": "execute_result"
    }
   ],
   "source": [
    "regexp.findall(doc)"
   ]
  },
  {
   "cell_type": "code",
   "execution_count": 82,
   "metadata": {},
   "outputs": [],
   "source": [
    "en_nlp = spacy.load('en_core_web_sm', disable=['parser', 'ner'])"
   ]
  },
  {
   "cell_type": "code",
   "execution_count": 83,
   "metadata": {},
   "outputs": [
    {
     "data": {
      "text/plain": [
       "Once upon a time they're was a very bad man. He lived in a big castle on the hill and experienced experiences that nobody could possibly imagine"
      ]
     },
     "execution_count": 83,
     "metadata": {},
     "output_type": "execute_result"
    }
   ],
   "source": [
    "nlp_doc = en_nlp(doc)\n",
    "nlp_doc"
   ]
  },
  {
   "cell_type": "code",
   "execution_count": null,
   "metadata": {},
   "outputs": [],
   "source": []
  },
  {
   "cell_type": "code",
   "execution_count": 84,
   "metadata": {},
   "outputs": [],
   "source": [
    "from spacy.tokens import Doc"
   ]
  },
  {
   "cell_type": "code",
   "execution_count": 85,
   "metadata": {},
   "outputs": [],
   "source": [
    "# new_en_nlp = Doc(nlp_doc.vocab, words=[t.text for t in nlp_doc])"
   ]
  },
  {
   "cell_type": "code",
   "execution_count": 86,
   "metadata": {},
   "outputs": [
    {
     "data": {
      "text/plain": [
       "Once upon a time they 're was a very bad man . He lived in a big castle on the hill and experienced experiences that nobody could possibly imagine "
      ]
     },
     "execution_count": 86,
     "metadata": {},
     "output_type": "execute_result"
    }
   ],
   "source": [
    "new_en_nlp"
   ]
  },
  {
   "cell_type": "code",
   "execution_count": 92,
   "metadata": {},
   "outputs": [
    {
     "data": {
      "text/plain": [
       "[Once,\n",
       " upon,\n",
       " a,\n",
       " time,\n",
       " they,\n",
       " 're,\n",
       " was,\n",
       " a,\n",
       " very,\n",
       " bad,\n",
       " man,\n",
       " .,\n",
       " He,\n",
       " lived,\n",
       " in,\n",
       " a,\n",
       " big,\n",
       " castle,\n",
       " on,\n",
       " the,\n",
       " hill,\n",
       " and,\n",
       " experienced,\n",
       " experiences,\n",
       " that,\n",
       " nobody,\n",
       " could,\n",
       " possibly,\n",
       " imagine]"
      ]
     },
     "execution_count": 92,
     "metadata": {},
     "output_type": "execute_result"
    }
   ],
   "source": [
    "token_lemma_data = [token.lemma_ for token in nlp_doc.doc]\n",
    "token_ = [token for token in nlp_doc]\n",
    "token_"
   ]
  },
  {
   "cell_type": "code",
   "execution_count": 88,
   "metadata": {},
   "outputs": [
    {
     "data": {
      "text/plain": [
       "['once',\n",
       " 'upon',\n",
       " 'a',\n",
       " 'time',\n",
       " 'they',\n",
       " 'be',\n",
       " 'be',\n",
       " 'a',\n",
       " 'very',\n",
       " 'bad',\n",
       " 'man',\n",
       " '.',\n",
       " 'he',\n",
       " 'live',\n",
       " 'in',\n",
       " 'a',\n",
       " 'big',\n",
       " 'castle',\n",
       " 'on',\n",
       " 'the',\n",
       " 'hill',\n",
       " 'and',\n",
       " 'experienced',\n",
       " 'experience',\n",
       " 'that',\n",
       " 'nobody',\n",
       " 'could',\n",
       " 'possibly',\n",
       " 'imagine']"
      ]
     },
     "execution_count": 88,
     "metadata": {},
     "output_type": "execute_result"
    }
   ],
   "source": [
    "token_lemma_data"
   ]
  },
  {
   "cell_type": "code",
   "execution_count": null,
   "metadata": {},
   "outputs": [],
   "source": []
  }
 ],
 "metadata": {
  "kernelspec": {
   "display_name": "Python 3",
   "language": "python",
   "name": "python3"
  },
  "language_info": {
   "codemirror_mode": {
    "name": "ipython",
    "version": 3
   },
   "file_extension": ".py",
   "mimetype": "text/x-python",
   "name": "python",
   "nbconvert_exporter": "python",
   "pygments_lexer": "ipython3",
   "version": "3.8.5"
  }
 },
 "nbformat": 4,
 "nbformat_minor": 4
}
